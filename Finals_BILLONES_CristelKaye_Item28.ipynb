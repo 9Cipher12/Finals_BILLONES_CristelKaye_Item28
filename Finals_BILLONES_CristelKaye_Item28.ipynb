{
  "nbformat": 4,
  "nbformat_minor": 0,
  "metadata": {
    "colab": {
      "provenance": []
    },
    "kernelspec": {
      "name": "python3",
      "display_name": "Python 3"
    },
    "language_info": {
      "name": "python"
    }
  },
  "cells": [
    {
      "cell_type": "code",
      "execution_count": 2,
      "metadata": {
        "id": "2NYb_TAJrVoV"
      },
      "outputs": [],
      "source": [
        "import pandas as pd\n",
        "from statsmodels.formula.api import ols\n",
        "from statsmodels.stats.anova import anova_lm\n",
        "\n",
        "# Creating the dataframe with the provided data\n",
        "data = {\n",
        "    'AD_Status': [1]*20 + [2]*20,\n",
        "    'Treatment': [1]*5 + [2]*5 + [3]*5 + [4]*5 + [1]*5 + [2]*5 + [3]*5 + [4]*5,\n",
        "    'Training': [12, 15, 13, 12, 14, 15, 17, 16, 17, 14, 13, 14, 18, 15, 16, 14, 13, 12, 14, 15,\n",
        "                 17, 16, 17, 14, 13, 14, 18, 16, 17, 14, 13, 14, 18, 15, 16, 14, 13, 12, 14, 15],\n",
        "    'Memory': [10, 12, 13, 10, 13, 13, 13, 14, 15, 11, 12, 11, 15, 10, 14, 12, 11, 10, 13, 10,\n",
        "               9, 8, 10, 8, 8, 7, 10, 5, 9, 7, 8, 7, 9, 8, 9, 7, 9, 5, 8, 4]\n",
        "}\n",
        "\n",
        "df = pd.DataFrame(data)"
      ]
    },
    {
      "cell_type": "code",
      "source": [
        "# Fit the ANOVA models\n",
        "model_train = ols('Training ~ C(AD_Status) * C(Treatment)', df).fit()\n",
        "model_memory = ols('Memory ~ C(AD_Status) * C(Treatment)', df).fit()\n",
        "\n",
        "# Shapiro-Wilk test for normality on residuals\n",
        "train_norm = model_train.resid\n",
        "mem_norm = model_memory.resid\n",
        "\n",
        "shapiro_train = shapiro(train_norm)\n",
        "shapiro_mem = shapiro(mem_norm)\n",
        "\n",
        "print(\"Shapiro-Wilk Test for Normality - Training Errors:\")\n",
        "print(\"Statistic:\", shapiro_train[0], \"p-value:\", shapiro_train[1])\n",
        "print(\"\\nShapiro-Wilk Test for Normality - Memory Errors:\")\n",
        "print(\"Statistic:\", shapiro_mem[0], \"p-value:\", shapiro_mem[1])"
      ],
      "metadata": {
        "colab": {
          "base_uri": "https://localhost:8080/"
        },
        "id": "wA1w5hSes0PA",
        "outputId": "21d5b8c3-fd62-4215-b932-79eedabcaa6b"
      },
      "execution_count": 5,
      "outputs": [
        {
          "output_type": "stream",
          "name": "stdout",
          "text": [
            "Shapiro-Wilk Test for Normality - Training Errors:\n",
            "Statistic: 0.9635688662528992 p-value: 0.2214137762784958\n",
            "\n",
            "Shapiro-Wilk Test for Normality - Memory Errors:\n",
            "Statistic: 0.9667065739631653 p-value: 0.28166744112968445\n"
          ]
        }
      ]
    },
    {
      "cell_type": "code",
      "source": [
        "# Levene's test for homogeneity of variances\n",
        "levene_test = levene(train_norm, mem_norm)\n",
        "\n",
        "print(\"\\nLevene's Test for Homogeneity of Variances:\")\n",
        "print(\"Statistic:\", levene_test.statistic, \"p-value:\", levene_test.pvalue)\n"
      ],
      "metadata": {
        "colab": {
          "base_uri": "https://localhost:8080/"
        },
        "id": "LTEyue_qECce",
        "outputId": "ebb79f22-2720-422e-feb6-1ab30885bd5b"
      },
      "execution_count": 6,
      "outputs": [
        {
          "output_type": "stream",
          "name": "stdout",
          "text": [
            "\n",
            "Levene's Test for Homogeneity of Variances:\n",
            "Statistic: 0.01250400769477344 p-value: 0.9112523442409037\n"
          ]
        }
      ]
    },
    {
      "cell_type": "code",
      "source": [
        "# Fit the ANOVA model\n",
        "model_train = ols('Training ~ C(AD_Status) * C(Treatment)', df).fit()\n",
        "model_memory = ols('Memory ~ C(AD_Status) * C(Treatment)', df).fit()\n",
        "\n",
        "# Perform ANOVA\n",
        "anova_table_train = anova_lm(model_train, typ=2)\n",
        "anova_table_memory = anova_lm(model_memory, typ=2)\n",
        "\n",
        "print(\"\\nANOVA Table - Training:\")\n",
        "print(anova_table_train)\n",
        "\n",
        "print(\"\\nANOVA Table - Memory:\")\n",
        "print(anova_table_memory)\n",
        "\n"
      ],
      "metadata": {
        "colab": {
          "base_uri": "https://localhost:8080/"
        },
        "id": "5AgM9cB-DBlZ",
        "outputId": "e40662c8-45dc-40fe-df7e-89f4426c6abe"
      },
      "execution_count": 7,
      "outputs": [
        {
          "output_type": "stream",
          "name": "stdout",
          "text": [
            "\n",
            "ANOVA Table - Training:\n",
            "                           sum_sq    df         F    PR(>F)\n",
            "C(AD_Status)                3.025   1.0  1.216080  0.278356\n",
            "C(Treatment)               28.275   3.0  3.788945  0.019678\n",
            "C(AD_Status):C(Treatment)   9.075   3.0  1.216080  0.319771\n",
            "Residual                   79.600  32.0       NaN       NaN\n",
            "\n",
            "ANOVA Table - Memory:\n",
            "                            sum_sq    df          F        PR(>F)\n",
            "C(AD_Status)               189.225   1.0  75.313433  6.449421e-10\n",
            "C(Treatment)                14.475   3.0   1.920398  1.461176e-01\n",
            "C(AD_Status):C(Treatment)    8.675   3.0   1.150912  3.436263e-01\n",
            "Residual                    80.400  32.0        NaN           NaN\n"
          ]
        }
      ]
    },
    {
      "cell_type": "code",
      "source": [],
      "metadata": {
        "id": "nBQGt40tDCZ0"
      },
      "execution_count": null,
      "outputs": []
    }
  ]
}