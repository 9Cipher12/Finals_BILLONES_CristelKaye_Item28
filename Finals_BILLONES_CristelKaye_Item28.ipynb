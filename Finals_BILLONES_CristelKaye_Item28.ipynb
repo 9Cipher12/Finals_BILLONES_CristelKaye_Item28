{
  "nbformat": 4,
  "nbformat_minor": 0,
  "metadata": {
    "colab": {
      "provenance": []
    },
    "kernelspec": {
      "name": "python3",
      "display_name": "Python 3"
    },
    "language_info": {
      "name": "python"
    }
  },
  "cells": [
    {
      "cell_type": "code",
      "execution_count": 2,
      "metadata": {
        "id": "2NYb_TAJrVoV"
      },
      "outputs": [],
      "source": [
        "import pandas as pd\n",
        "from statsmodels.formula.api import ols\n",
        "from statsmodels.stats.anova import anova_lm\n",
        "\n",
        "# Creating the dataframe with the provided data\n",
        "data = {\n",
        "    'AD_Status': [1]*20 + [2]*20,\n",
        "    'Treatment': [1]*5 + [2]*5 + [3]*5 + [4]*5 + [1]*5 + [2]*5 + [3]*5 + [4]*5,\n",
        "    'Training': [12, 15, 13, 12, 14, 15, 17, 16, 17, 14, 13, 14, 18, 15, 16, 14, 13, 12, 14, 15,\n",
        "                 17, 16, 17, 14, 13, 14, 18, 16, 17, 14, 13, 14, 18, 15, 16, 14, 13, 12, 14, 15],\n",
        "    'Memory': [10, 12, 13, 10, 13, 13, 13, 14, 15, 11, 12, 11, 15, 10, 14, 12, 11, 10, 13, 10,\n",
        "               9, 8, 10, 8, 8, 7, 10, 5, 9, 7, 8, 7, 9, 8, 9, 7, 9, 5, 8, 4]\n",
        "}\n",
        "\n",
        "df = pd.DataFrame(data)"
      ]
    },
    {
      "cell_type": "code",
      "source": [
        "from scipy.stats import shapiro, levene\n",
        "\n",
        "# Shapiro-Wilk test for normality\n",
        "train_norm = model_train.resid\n",
        "mem_norm = model_memory.resid\n",
        "\n",
        "shapiro_train = shapiro(train_norm)\n",
        "shapiro_mem = shapiro(mem_norm)\n",
        "\n",
        "print(\"Shapiro-Wilk Test for Normality - Training Errors:\")\n",
        "print(\"Statistic:\", shapiro_train[0], \"p-value:\", shapiro_train[1])\n",
        "print(\"\\nShapiro-Wilk Test for Normality - Memory Errors:\")\n",
        "print(\"Statistic:\", shapiro_mem[0], \"p-value:\", shapiro_mem[1])\n",
        "\n",
        "# Levene's test for homogeneity of variances\n",
        "levene_test = levene(train_norm, mem_norm)\n",
        "\n",
        "print(\"\\nLevene's Test for Homogeneity of Variances:\")\n",
        "print(\"Statistic:\", levene_test.statistic, \"p-value:\", levene_test.pvalue)\n"
      ],
      "metadata": {
        "colab": {
          "base_uri": "https://localhost:8080/"
        },
        "id": "wA1w5hSes0PA",
        "outputId": "bcfeffa2-9ff3-41e0-adcb-d028a3b9195f"
      },
      "execution_count": 9,
      "outputs": [
        {
          "output_type": "stream",
          "name": "stdout",
          "text": [
            "Shapiro-Wilk Test for Normality - Training Errors:\n",
            "Statistic: 0.9635688662528992 p-value: 0.2214137762784958\n",
            "\n",
            "Shapiro-Wilk Test for Normality - Memory Errors:\n",
            "Statistic: 0.9667065739631653 p-value: 0.28166744112968445\n",
            "\n",
            "Levene's Test for Homogeneity of Variances:\n",
            "Statistic: 0.01250400769477401 p-value: 0.9112523442409037\n"
          ]
        }
      ]
    }
  ]
}